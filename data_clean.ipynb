{
 "cells": [
  {
   "cell_type": "code",
   "execution_count": 2,
   "metadata": {
    "colab": {
     "base_uri": "https://localhost:8080/"
    },
    "id": "BF_yYXV0WGFj",
    "outputId": "07e1d1aa-ecb8-429f-bb39-871ebb670956",
    "ExecuteTime": {
     "end_time": "2023-12-03T23:40:31.572496300Z",
     "start_time": "2023-12-03T23:40:31.495307400Z"
    }
   },
   "outputs": [
    {
     "name": "stdout",
     "output_type": "stream",
     "text": [
      "                   Product Type Release Date  Process Size (nm)  TDP (W)  \\\n",
      "0      AMD Athlon 64 3500+  CPU   2007-02-20               65.0     45.0   \n",
      "1         AMD Athlon 200GE  CPU   2018-09-06               14.0     35.0   \n",
      "2     Intel Core i5-1145G7  CPU   2020-09-02               10.0     28.0   \n",
      "3    Intel Xeon E5-2603 v2  CPU   2013-09-01               22.0     80.0   \n",
      "4  AMD Phenom II X4 980 BE  CPU   2011-05-03               45.0    125.0   \n",
      "\n",
      "   Die Size (mm^2)  Transistors (million)  Freq (MHz)  Foundry Vendor  \\\n",
      "0             77.0                  122.0      2200.0  Unknown    AMD   \n",
      "1            192.0                 4800.0      3200.0  Unknown    AMD   \n",
      "2            148.0                  624.0      2600.0    Intel  Intel   \n",
      "3            160.0                 1400.0      1800.0    Intel  Intel   \n",
      "4            258.0                  758.0      3700.0  Unknown    AMD   \n",
      "\n",
      "   FP16 GFLOPS  FP32 GFLOPS  FP64 GFLOPS  \n",
      "0       2965.5        696.0        89.28  \n",
      "1       2965.5        696.0        89.28  \n",
      "2       2965.5        696.0        89.28  \n",
      "3       2965.5        696.0        89.28  \n",
      "4       2965.5        696.0        89.28  \n"
     ]
    }
   ],
   "source": [
    "import pandas as pd\n",
    "\n",
    "file_path = 'C:/Users/ANANYA/PycharmProjects/pythonProject/chip_dataset 3.csv' \n",
    "chip_data = pd.read_csv(file_path)\n",
    "\n",
    "\n",
    "numerical_columns = ['Process Size (nm)', 'TDP (W)', 'Die Size (mm^2)',\n",
    "                     'Transistors (million)', 'Freq (MHz)', 'FP16 GFLOPS',\n",
    "                     'FP32 GFLOPS', 'FP64 GFLOPS']\n",
    "chip_data[numerical_columns] = chip_data[numerical_columns].fillna(chip_data[numerical_columns].median())\n",
    "\n",
    "categorical_columns = ['Foundry']\n",
    "chip_data[categorical_columns] = chip_data[categorical_columns].fillna('Unknown')\n",
    "\n",
    "\n",
    "chip_data['Release Date'] = pd.to_datetime(chip_data['Release Date'], errors='coerce')\n",
    "\n",
    "chip_data = chip_data.drop(columns=['Unnamed: 0'])\n",
    "\n",
    "chip_data.to_csv('C:/Users/ANANYA/PycharmProjects/pythonProject/chip_dataset 3.csv', index=False)\n",
    "\n",
    "print(chip_data.head())\n"
   ]
  },
  {
   "cell_type": "code",
   "execution_count": null,
   "metadata": {
    "id": "YRCLzRtNboS4"
   },
   "outputs": [],
   "source": []
  },
  {
   "cell_type": "code",
   "execution_count": null,
   "metadata": {
    "id": "8kUHf8mKboOx"
   },
   "outputs": [],
   "source": []
  },
  {
   "cell_type": "code",
   "execution_count": null,
   "metadata": {
    "id": "fTEr-PbaboMv"
   },
   "outputs": [],
   "source": []
  },
  {
   "cell_type": "code",
   "execution_count": null,
   "metadata": {
    "id": "FEvAgukqboKy"
   },
   "outputs": [],
   "source": []
  },
  {
   "cell_type": "code",
   "execution_count": null,
   "metadata": {
    "id": "nmxQhWKUboIA"
   },
   "outputs": [],
   "source": []
  },
  {
   "cell_type": "code",
   "execution_count": null,
   "metadata": {
    "id": "iMKqopIsboFD"
   },
   "outputs": [],
   "source": []
  },
  {
   "cell_type": "code",
   "execution_count": null,
   "metadata": {
    "id": "QW0Z4XqlboC1"
   },
   "outputs": [],
   "source": []
  },
  {
   "cell_type": "code",
   "execution_count": null,
   "metadata": {
    "id": "cqWjYcOSbn-3"
   },
   "outputs": [],
   "source": []
  }
 ],
 "metadata": {
  "colab": {
   "provenance": []
  },
  "kernelspec": {
   "name": "python3",
   "language": "python",
   "display_name": "Python 3 (ipykernel)"
  },
  "language_info": {
   "codemirror_mode": {
    "name": "ipython",
    "version": 3
   },
   "file_extension": ".py",
   "mimetype": "text/x-python",
   "name": "python",
   "nbconvert_exporter": "python",
   "pygments_lexer": "ipython3",
   "version": "3.11.4"
  }
 },
 "nbformat": 4,
 "nbformat_minor": 0
}
